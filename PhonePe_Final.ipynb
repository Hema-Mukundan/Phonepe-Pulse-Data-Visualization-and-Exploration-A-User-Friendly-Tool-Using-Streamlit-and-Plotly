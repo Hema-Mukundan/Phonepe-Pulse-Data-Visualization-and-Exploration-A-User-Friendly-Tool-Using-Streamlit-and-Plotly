{
 "cells": [
  {
   "cell_type": "code",
   "execution_count": null,
   "id": "7d629333",
   "metadata": {},
   "outputs": [],
   "source": [
    "import git"
   ]
  },
  {
   "cell_type": "code",
   "execution_count": null,
   "id": "67fed0b2",
   "metadata": {},
   "outputs": [],
   "source": [
    "!git clone https://github.com/PhonePe/pulse.github"
   ]
  },
  {
   "cell_type": "code",
   "execution_count": null,
   "id": "4d4865f6",
   "metadata": {},
   "outputs": [],
   "source": [
    "import pandas as pd\n",
    "import json\n",
    "import os \n",
    "import csv"
   ]
  },
  {
   "cell_type": "code",
   "execution_count": null,
   "id": "9e3e7185",
   "metadata": {},
   "outputs": [],
   "source": [
    "#This is to direct the path to get the data as states\n",
    "path=\"C://Users//Raghu//pulse//data//aggregated//transaction//country//india//state\"\n",
    "Agg_state_list=os.listdir(path)\n",
    "Agg_state_list"
   ]
  },
  {
   "cell_type": "code",
   "execution_count": null,
   "id": "c36dec0d",
   "metadata": {},
   "outputs": [],
   "source": [
    "#This is to extract the aggregated_transaction data to create a dataframe\n",
    "path = \"C:/Users/Raghu/pulse/data/aggregated/transaction/country/india/state\"\n",
    "Agg_state_list = os.listdir(path)\n",
    "\n",
    "clm = {\n",
    "    'State': [],\n",
    "    'Year': [],\n",
    "    'Quarter': [],\n",
    "    'Transaction_type': [],\n",
    "    'Transaction_count': [],\n",
    "    'Transaction_amount': []\n",
    "}\n",
    "\n",
    "for i in Agg_state_list:\n",
    "    p_i = os.path.join(path, i)\n",
    "    Agg_yr = os.listdir(p_i)\n",
    "\n",
    "    for j in Agg_yr:\n",
    "        p_j = os.path.join(p_i, j)\n",
    "        Agg_yr_list = os.listdir(p_j)\n",
    "\n",
    "        for k in Agg_yr_list:\n",
    "            p_k = os.path.join(p_j, k)\n",
    "            with open(p_k, 'r') as Data:\n",
    "                D = json.load(Data)\n",
    "\n",
    "                for z in D['data']['transactionData']:\n",
    "                    Name = z['name']\n",
    "                    count = z['paymentInstruments'][0]['count']\n",
    "                    amount = z['paymentInstruments'][0]['amount']\n",
    "                    clm['Transaction_type'].append(Name)\n",
    "                    clm['Transaction_count'].append(count)\n",
    "                    clm['Transaction_amount'].append(amount)\n",
    "                    clm['State'].append(i)\n",
    "                    clm['Year'].append(j)\n",
    "                    clm['Quarter'].append(int(k.strip('.json')))\n",
    "\n",
    "Agg_Trans = pd.DataFrame(clm)\n",
    "Agg_Trans.head(2)"
   ]
  },
  {
   "cell_type": "code",
   "execution_count": null,
   "id": "4a0cde68",
   "metadata": {},
   "outputs": [],
   "source": [
    "Agg_Trans.shape"
   ]
  },
  {
   "cell_type": "code",
   "execution_count": null,
   "id": "59e41f14",
   "metadata": {},
   "outputs": [],
   "source": [
    "Agg_Trans.dtypes"
   ]
  },
  {
   "cell_type": "code",
   "execution_count": null,
   "id": "d93f8d43",
   "metadata": {},
   "outputs": [],
   "source": [
    "Agg_Trans['Year'] = Agg_Trans['Year'].astype(int)\n",
    "Agg_Trans.dtypes"
   ]
  },
  {
   "cell_type": "code",
   "execution_count": null,
   "id": "7bd0c88c",
   "metadata": {},
   "outputs": [],
   "source": [
    "Agg_Trans.isnull().sum()"
   ]
  },
  {
   "cell_type": "code",
   "execution_count": null,
   "id": "ac87b425",
   "metadata": {},
   "outputs": [],
   "source": [
    "Agg_Trans.duplicated().sum()"
   ]
  },
  {
   "cell_type": "code",
   "execution_count": null,
   "id": "c23b9d1b",
   "metadata": {},
   "outputs": [],
   "source": [
    "#extract aggregated_users data and transform into dataframe\n",
    "path = \"C:/Users/Raghu/pulse/data/aggregated/user/country/india/state\"\n",
    "Agg_state_list = os.listdir(path)\n",
    "\n",
    "clm = {\n",
    "    'State': [],\n",
    "    'Year': [],\n",
    "    'Quarter': [],\n",
    "    'User_brand': [],\n",
    "    'User_count': [],\n",
    "    'User_percentage': []\n",
    "}\n",
    "\n",
    "for i in Agg_state_list:\n",
    "    p_i = os.path.join(path, i)\n",
    "    Agg_yr = os.listdir(p_i)\n",
    "\n",
    "    for j in Agg_yr:\n",
    "        p_j = os.path.join(p_i, j)\n",
    "        Agg_yr_list = os.listdir(p_j)\n",
    "\n",
    "        for k in Agg_yr_list:\n",
    "            p_k = os.path.join(p_j, k)\n",
    "            with open(p_k, 'r') as Data:\n",
    "                D = json.load(Data)\n",
    "                try:\n",
    "                    for z in D['data']['usersByDevice']:\n",
    "                        brand = z['brand']\n",
    "                        count = z['count']\n",
    "                        percentage = z['percentage'] * 100\n",
    "                        clm['User_brand'].append(brand)\n",
    "                        clm['User_count'].append(count)\n",
    "                        clm['User_percentage'].append(percentage)\n",
    "                        clm['State'].append(i)\n",
    "                        clm['Year'].append(j)\n",
    "                        clm['Quarter'].append(int(k.strip('.json')))\n",
    "                except:\n",
    "                    pass\n",
    "\n",
    "Agg_User = pd.DataFrame(clm)\n",
    "Agg_User.head(2)"
   ]
  },
  {
   "cell_type": "code",
   "execution_count": null,
   "id": "708f21dc",
   "metadata": {},
   "outputs": [],
   "source": [
    "Agg_User.shape"
   ]
  },
  {
   "cell_type": "code",
   "execution_count": null,
   "id": "4e193c12",
   "metadata": {},
   "outputs": [],
   "source": [
    "Agg_User.dtypes"
   ]
  },
  {
   "cell_type": "code",
   "execution_count": null,
   "id": "af424a5c",
   "metadata": {},
   "outputs": [],
   "source": [
    "Agg_User['Year'] = Agg_User['Year'].astype(int)\n",
    "Agg_User.dtypes"
   ]
  },
  {
   "cell_type": "code",
   "execution_count": null,
   "id": "2804a053",
   "metadata": {},
   "outputs": [],
   "source": [
    "Agg_User.isnull().sum()"
   ]
  },
  {
   "cell_type": "code",
   "execution_count": null,
   "id": "c7a9aba4",
   "metadata": {},
   "outputs": [],
   "source": [
    "Agg_User.duplicated().sum()"
   ]
  },
  {
   "cell_type": "code",
   "execution_count": null,
   "id": "806f006d",
   "metadata": {},
   "outputs": [],
   "source": [
    "#extract Map_transaction data and transform into dataframe\n",
    "path = \"C:/Users/Raghu/pulse/data/map/transaction/hover/country/india/state\"\n",
    "Agg_state_list = os.listdir(path)\n",
    "\n",
    "clm = {\n",
    "    'State': [],\n",
    "    'Year': [],\n",
    "    'Quarter': [],\n",
    "    'District': [],\n",
    "    'Transaction_count': [],\n",
    "    'Transaction_amount': []\n",
    "}\n",
    "\n",
    "for i in Agg_state_list:\n",
    "    p_i = os.path.join(path, i)\n",
    "    Agg_yr = os.listdir(p_i)\n",
    "\n",
    "    for j in Agg_yr:\n",
    "        p_j = os.path.join(p_i, j)\n",
    "        Agg_yr_list = os.listdir(p_j)\n",
    "\n",
    "        for k in Agg_yr_list:\n",
    "            p_k = os.path.join(p_j, k)\n",
    "            with open(p_k, 'r') as Data:\n",
    "                D = json.load(Data)\n",
    "                try:\n",
    "                    for z in D['data']['hoverDataList']:\n",
    "                        district = z['name'].split('district')[0]\n",
    "                        count = z['metric'][0]['count']\n",
    "                        amount = z['metric'][0]['amount']\n",
    "                        clm['District'].append(district)\n",
    "                        clm['Transaction_count'].append(count)\n",
    "                        clm['Transaction_amount'].append(amount)\n",
    "                        clm['State'].append(i)\n",
    "                        clm['Year'].append(j)\n",
    "                        clm['Quarter'].append(int(k.strip('.json')))\n",
    "                except:\n",
    "                    pass\n",
    "\n",
    "m_trans = pd.DataFrame(clm)\n",
    "m_trans.head(2)"
   ]
  },
  {
   "cell_type": "code",
   "execution_count": null,
   "id": "51ef606c",
   "metadata": {},
   "outputs": [],
   "source": [
    "m_trans.shape"
   ]
  },
  {
   "cell_type": "code",
   "execution_count": null,
   "id": "f69f5468",
   "metadata": {},
   "outputs": [],
   "source": [
    "m_trans.dtypes"
   ]
  },
  {
   "cell_type": "code",
   "execution_count": null,
   "id": "ca156240",
   "metadata": {},
   "outputs": [],
   "source": [
    "m_trans['Year'] = m_trans['Year'].astype(int)\n",
    "m_trans['Year'].dtypes"
   ]
  },
  {
   "cell_type": "code",
   "execution_count": null,
   "id": "bcc88fc3",
   "metadata": {},
   "outputs": [],
   "source": [
    "m_trans.isnull().sum()"
   ]
  },
  {
   "cell_type": "code",
   "execution_count": null,
   "id": "7a4c5c6f",
   "metadata": {},
   "outputs": [],
   "source": [
    "m_trans.duplicated().sum()"
   ]
  },
  {
   "cell_type": "code",
   "execution_count": null,
   "id": "1306daf3",
   "metadata": {},
   "outputs": [],
   "source": [
    "#extract Map_users data and transform into dataframe\n",
    "path = \"C:/Users/Raghu/pulse/data/map/user/hover/country/india/state\"\n",
    "agg_state_list = os.listdir(path)\n",
    "\n",
    "clm = {'State': [], 'Year': [], 'Quarter': [], 'District': [], 'Registered_user': [], 'App_opens': []}\n",
    "\n",
    "for i in Agg_state_list:\n",
    "    p_i = os.path.join(path, i)\n",
    "    Agg_yr = os.listdir(p_i)\n",
    "\n",
    "    for j in Agg_yr:\n",
    "        p_j = os.path.join(p_i, j)\n",
    "        Agg_yr_list = os.listdir(p_j)\n",
    "\n",
    "        for k in Agg_yr_list:\n",
    "            p_k = os.path.join(p_j, k)\n",
    "            with open(p_k, 'r') as Data:\n",
    "                D = json.load(Data)\n",
    "\n",
    "                for z_key, z_value in D['data']['hoverData'].items():\n",
    "                    district = z_key.split('district')[0]\n",
    "                    reg_user = z_value['registeredUsers']\n",
    "                    app_opens = z_value['appOpens']\n",
    "                    clm['District'].append(district)\n",
    "                    clm['Registered_user'].append(reg_user)\n",
    "                    clm['App_opens'].append(app_opens)\n",
    "                    clm['State'].append(i)\n",
    "                    clm['Year'].append(j)\n",
    "                    clm['Quarter'].append(int(k.strip('.json')))\n",
    "\n",
    "m_user = pd.DataFrame(clm)\n",
    "m_user.head(2)"
   ]
  },
  {
   "cell_type": "code",
   "execution_count": null,
   "id": "fd1bcf73",
   "metadata": {},
   "outputs": [],
   "source": [
    "m_user.shape"
   ]
  },
  {
   "cell_type": "code",
   "execution_count": null,
   "id": "6fdd6bf0",
   "metadata": {},
   "outputs": [],
   "source": [
    "m_user.dtypes"
   ]
  },
  {
   "cell_type": "code",
   "execution_count": null,
   "id": "c08486f9",
   "metadata": {},
   "outputs": [],
   "source": [
    "m_user['Year'] = m_user['Year'].astype(int)\n",
    "m_user.dtypes"
   ]
  },
  {
   "cell_type": "code",
   "execution_count": null,
   "id": "4bbc4efa",
   "metadata": {},
   "outputs": [],
   "source": [
    "m_user.isnull().sum()"
   ]
  },
  {
   "cell_type": "code",
   "execution_count": null,
   "id": "3a6bcf1b",
   "metadata": {},
   "outputs": [],
   "source": [
    "m_user.duplicated().sum()"
   ]
  },
  {
   "cell_type": "code",
   "execution_count": null,
   "id": "403e3058",
   "metadata": {},
   "outputs": [],
   "source": [
    "#extract Top_transaction_district data and transform into dataframe\n",
    "path = \"C:/Users/Raghu/pulse/data/top/transaction/country/india/state\"\n",
    "agg_state_list = os.listdir(path)\n",
    "\n",
    "clm = {'State': [], 'Year': [], 'Quarter': [], 'District': [], 'Transaction_count': [], 'Transaction_amount': []}\n",
    "\n",
    "for i in Agg_state_list:\n",
    "    p_i = os.path.join(path, i)\n",
    "    Agg_yr = os.listdir(p_i)\n",
    "\n",
    "    for j in Agg_yr:\n",
    "        p_j = os.path.join(p_i, j)\n",
    "        Agg_yr_list = os.listdir(p_j)\n",
    "\n",
    "        for k in Agg_yr_list:\n",
    "            p_k = os.path.join(p_j, k)\n",
    "            with open(p_k, 'r') as Data:\n",
    "                D = json.load(Data)\n",
    "                \n",
    "                for z in D['data']['districts']:\n",
    "                    district = z['entityName']\n",
    "                    count = z['metric']['count']\n",
    "                    amount = z['metric']['amount']\n",
    "                    clm['District'].append(district)\n",
    "                    clm['Transaction_count'].append(count)\n",
    "                    clm['Transaction_amount'].append(amount)\n",
    "                    clm['State'].append(i)\n",
    "                    clm['Year'].append(j)\n",
    "                    clm['Quarter'].append(int(k.strip('.json')))\n",
    "Top_trans_district = pd.DataFrame(clm)\n",
    "Top_trans_district.head(2)"
   ]
  },
  {
   "cell_type": "code",
   "execution_count": null,
   "id": "f7198965",
   "metadata": {},
   "outputs": [],
   "source": [
    "Top_trans_district.shape"
   ]
  },
  {
   "cell_type": "code",
   "execution_count": null,
   "id": "634ebf20",
   "metadata": {},
   "outputs": [],
   "source": [
    "Top_trans_district.dtypes"
   ]
  },
  {
   "cell_type": "code",
   "execution_count": null,
   "id": "94a953c0",
   "metadata": {},
   "outputs": [],
   "source": [
    "Top_trans_district['Year'] = Top_trans_district['Year'].astype(int)\n",
    "Top_trans_district['Year'].dtypes"
   ]
  },
  {
   "cell_type": "code",
   "execution_count": null,
   "id": "b4ef6f46",
   "metadata": {},
   "outputs": [],
   "source": [
    "Top_trans_district.isnull().sum()"
   ]
  },
  {
   "cell_type": "code",
   "execution_count": null,
   "id": "caf31773",
   "metadata": {},
   "outputs": [],
   "source": [
    "Top_trans_district.duplicated().sum()"
   ]
  },
  {
   "cell_type": "code",
   "execution_count": null,
   "id": "9a1d151c",
   "metadata": {},
   "outputs": [],
   "source": [
    "#extract Top_transaction_Pincode data and transform into dataframe\n",
    "path = \"C:/Users/Raghu/pulse/data/top/transaction/country/india/state\"\n",
    "agg_state_list = os.listdir(path)\n",
    "\n",
    "clm = {'State': [], 'Year': [], 'Quarter': [], 'Pincode': [], 'Transaction_count': [], 'Transaction_amount': []}\n",
    "\n",
    "for i in Agg_state_list:\n",
    "    p_i = os.path.join(path, i)\n",
    "    Agg_yr = os.listdir(p_i)\n",
    "\n",
    "    for j in Agg_yr:\n",
    "        p_j = os.path.join(p_i, j)\n",
    "        Agg_yr_list = os.listdir(p_j)\n",
    "\n",
    "        for k in Agg_yr_list:\n",
    "            p_k = os.path.join(p_j, k)\n",
    "            with open(p_k, 'r') as Data:\n",
    "                D = json.load(Data)\n",
    "                \n",
    "                for z in D['data']['pincodes']:\n",
    "                    pincode = z['entityName']\n",
    "                    count = z['metric']['count']\n",
    "                    amount = z['metric']['amount']\n",
    "                    clm['Pincode'].append(pincode)\n",
    "                    clm['Transaction_count'].append(count)\n",
    "                    clm['Transaction_amount'].append(amount)\n",
    "                    clm['State'].append(i)\n",
    "                    clm['Year'].append(j)\n",
    "                    clm['Quarter'].append(int(k.strip('.json')))\n",
    "\n",
    "Top_Trans_Pincode = pd.DataFrame(clm)\n",
    "Top_Trans_Pincode.head(2)"
   ]
  },
  {
   "cell_type": "code",
   "execution_count": null,
   "id": "9ecee795",
   "metadata": {},
   "outputs": [],
   "source": [
    "Top_Trans_Pincode.shape"
   ]
  },
  {
   "cell_type": "code",
   "execution_count": null,
   "id": "203532c0",
   "metadata": {},
   "outputs": [],
   "source": [
    "Top_Trans_Pincode.dtypes"
   ]
  },
  {
   "cell_type": "code",
   "execution_count": null,
   "id": "065ca5fe",
   "metadata": {},
   "outputs": [],
   "source": [
    "Top_Trans_Pincode.isnull().sum()"
   ]
  },
  {
   "cell_type": "code",
   "execution_count": null,
   "id": "69204f45",
   "metadata": {},
   "outputs": [],
   "source": [
    "Top_Trans_Pincode = Top_Trans_Pincode.dropna(subset=['Pincode'])\n",
    "Top_Trans_Pincode.isnull().sum()"
   ]
  },
  {
   "cell_type": "code",
   "execution_count": null,
   "id": "743e72fb",
   "metadata": {},
   "outputs": [],
   "source": [
    "Top_Trans_Pincode['Year'] = Top_Trans_Pincode['Year'].astype(int)\n",
    "Top_Trans_Pincode['Pincode'] = Top_Trans_Pincode['Pincode'].astype(int)\n",
    "Top_Trans_Pincode.dtypes"
   ]
  },
  {
   "cell_type": "code",
   "execution_count": null,
   "id": "2e83cce4",
   "metadata": {},
   "outputs": [],
   "source": [
    "Top_Trans_Pincode.duplicated().sum()"
   ]
  },
  {
   "cell_type": "code",
   "execution_count": null,
   "id": "65749cd6",
   "metadata": {},
   "outputs": [],
   "source": [
    "#extract Top_User_district data and transform into dataframe\n",
    "path = \"C:/Users/Raghu/pulse/data/top/user/country/india/state\"\n",
    "agg_state_list = os.listdir(path)\n",
    "\n",
    "clm = {'State': [], 'Year': [], 'Quarter': [], 'District': [], 'Registered_user': []}\n",
    "\n",
    "for i in Agg_state_list:\n",
    "    p_i = os.path.join(path, i)\n",
    "    Agg_yr = os.listdir(p_i)\n",
    "\n",
    "    for j in Agg_yr:\n",
    "        p_j = os.path.join(p_i, j)\n",
    "        Agg_yr_list = os.listdir(p_j)\n",
    "\n",
    "        for k in Agg_yr_list:\n",
    "            p_k = os.path.join(p_j, k)\n",
    "            with open(p_k, 'r') as Data:\n",
    "                D = json.load(Data)\n",
    "\n",
    "                for z in D['data']['districts']:\n",
    "                    district = z['name']\n",
    "                    reg_user = z['registeredUsers']\n",
    "                    clm['District'].append(district)\n",
    "                    clm['Registered_user'].append(reg_user)\n",
    "                    clm['State'].append(i)\n",
    "                    clm['Year'].append(j)\n",
    "                    clm['Quarter'].append(int(k.strip('.json')))\n",
    "T_User_district = pd.DataFrame(clm)\n",
    "T_User_district.head(2)"
   ]
  },
  {
   "cell_type": "code",
   "execution_count": null,
   "id": "05802008",
   "metadata": {},
   "outputs": [],
   "source": [
    "T_User_district.shape"
   ]
  },
  {
   "cell_type": "code",
   "execution_count": null,
   "id": "5f3af087",
   "metadata": {},
   "outputs": [],
   "source": [
    "T_User_district.dtypes"
   ]
  },
  {
   "cell_type": "code",
   "execution_count": null,
   "id": "c6d7c498",
   "metadata": {},
   "outputs": [],
   "source": [
    "T_User_district['Year'] = T_User_district['Year'].astype(int)\n",
    "T_User_district.dtypes"
   ]
  },
  {
   "cell_type": "code",
   "execution_count": null,
   "id": "65bc932e",
   "metadata": {},
   "outputs": [],
   "source": [
    "T_User_district.isnull().sum()"
   ]
  },
  {
   "cell_type": "code",
   "execution_count": null,
   "id": "597ae7e3",
   "metadata": {},
   "outputs": [],
   "source": [
    "T_User_district.duplicated().sum()"
   ]
  },
  {
   "cell_type": "code",
   "execution_count": null,
   "id": "d995b5b2",
   "metadata": {},
   "outputs": [],
   "source": [
    "#extract Top_User_Pincode data and transform into dataframe\n",
    "path = \"C:/Users/Raghu/pulse/data/top/user/country/india/state\"\n",
    "agg_state_list = os.listdir(path)\n",
    "\n",
    "clm = {'State': [], 'Year': [], 'Quarter': [], 'Pincode': [], 'Registered_user': []}\n",
    "\n",
    "for i in Agg_state_list:\n",
    "    p_i = os.path.join(path, i)\n",
    "    Agg_yr = os.listdir(p_i)\n",
    "\n",
    "    for j in Agg_yr:\n",
    "        p_j = os.path.join(p_i, j)\n",
    "        Agg_yr_list = os.listdir(p_j)\n",
    "\n",
    "        for k in Agg_yr_list:\n",
    "            p_k = os.path.join(p_j, k)\n",
    "            with open(p_k, 'r') as Data:\n",
    "                D = json.load(Data)\n",
    "\n",
    "                for z in D['data']['pincodes']:\n",
    "                    pincode = z['name']\n",
    "                    reg_user = z['registeredUsers']\n",
    "                    clm['Pincode'].append(pincode)\n",
    "                    clm['Registered_user'].append(reg_user)\n",
    "                    clm['State'].append(i)\n",
    "                    clm['Year'].append(j)\n",
    "                    clm['Quarter'].append(int(k.strip('.json')))\n",
    "T_User_Pincode = pd.DataFrame(clm)\n",
    "T_User_Pincode.head(2)"
   ]
  },
  {
   "cell_type": "code",
   "execution_count": null,
   "id": "5dcea3a2",
   "metadata": {},
   "outputs": [],
   "source": [
    "T_User_Pincode.shape"
   ]
  },
  {
   "cell_type": "code",
   "execution_count": null,
   "id": "09af5e0a",
   "metadata": {},
   "outputs": [],
   "source": [
    "T_User_Pincode.dtypes"
   ]
  },
  {
   "cell_type": "code",
   "execution_count": null,
   "id": "6967bc53",
   "metadata": {},
   "outputs": [],
   "source": [
    "T_User_Pincode['Year'] = T_User_Pincode['Year'].astype(int)\n",
    "T_User_Pincode.dtypes"
   ]
  },
  {
   "cell_type": "code",
   "execution_count": null,
   "id": "fadb6cc9",
   "metadata": {},
   "outputs": [],
   "source": [
    "T_User_Pincode.isnull().sum()"
   ]
  },
  {
   "cell_type": "code",
   "execution_count": null,
   "id": "e6ac161b",
   "metadata": {},
   "outputs": [],
   "source": [
    "T_User_Pincode.duplicated().sum()"
   ]
  },
  {
   "cell_type": "code",
   "execution_count": null,
   "id": "2fddb15a",
   "metadata": {},
   "outputs": [],
   "source": [
    "import mysql.connector"
   ]
  },
  {
   "cell_type": "code",
   "execution_count": null,
   "id": "45476cbb",
   "metadata": {},
   "outputs": [],
   "source": [
    "connection = mysql.connector.connect(\n",
    "        host=\"localhost\",\n",
    "        user=\"root\",\n",
    "        password=\"Data23Wrangl#\",\n",
    "        database=\"phonepe_db\"\n",
    "    )\n",
    "cursor = connection.cursor()"
   ]
  },
  {
   "cell_type": "code",
   "execution_count": null,
   "id": "83c1108d",
   "metadata": {},
   "outputs": [],
   "source": [
    "print(connection)"
   ]
  },
  {
   "cell_type": "code",
   "execution_count": null,
   "id": "e6c49572",
   "metadata": {},
   "outputs": [],
   "source": [
    "# Execute your queries here\n",
    "query = \"CREATE TABLE if not exists aggregated_transaction(\\\n",
    "                        state VARCHAR(255),\\\n",
    "                        year INT,\\\n",
    "                        quarter VARCHAR(2),\\\n",
    "                        transaction_type VARCHAR(255),\\\n",
    "                        transaction_count INT,\\\n",
    "                        transaction_amount DOUBLE)\"\n",
    "cursor.execute(query)\n",
    "connection.commit()\n"
   ]
  },
  {
   "cell_type": "code",
   "execution_count": null,
   "id": "7f7d59a5",
   "metadata": {},
   "outputs": [],
   "source": [
    "query = \"CREATE TABLE if not exists aggregated_user(\\\n",
    "                            state VARCHAR(255),\\\n",
    "                            year INT,\\\n",
    "                            quarter VARCHAR(2),\\\n",
    "                            user_brand VARCHAR(255),\\\n",
    "                            user_count INT,\\\n",
    "                            user_percentage DOUBLE)\"\n",
    "cursor.execute(query)\n",
    "connection.commit()"
   ]
  },
  {
   "cell_type": "code",
   "execution_count": null,
   "id": "f70edbdd",
   "metadata": {},
   "outputs": [],
   "source": [
    "query = \"CREATE TABLE if not exists map_transaction(\\\n",
    "                            state VARCHAR(255),\\\n",
    "                            year INT,\\\n",
    "                            quarter VARCHAR(2),\\\n",
    "                            district VARCHAR(255),\\\n",
    "                            transaction_count INT,\\\n",
    "                            transaction_amount DOUBLE)\"\n",
    "cursor.execute(query)\n",
    "connection.commit()"
   ]
  },
  {
   "cell_type": "code",
   "execution_count": null,
   "id": "70ee43c5",
   "metadata": {},
   "outputs": [],
   "source": [
    "query = \"CREATE TABLE if not exists map_user(\\\n",
    "                            state VARCHAR(255),\\\n",
    "                            year INT,\\\n",
    "                            quarter VARCHAR(2),\\\n",
    "                            district VARCHAR(255),\\\n",
    "                            registered_user INT,\\\n",
    "                            app_opens INT)\"\n",
    "cursor.execute(query)\n",
    "connection.commit()"
   ]
  },
  {
   "cell_type": "code",
   "execution_count": null,
   "id": "a098d306",
   "metadata": {},
   "outputs": [],
   "source": [
    "query = \"CREATE TABLE if not exists top_transaction_district(\\\n",
    "                            state VARCHAR(255),\\\n",
    "                            year INT,\\\n",
    "                            quarter VARCHAR(2),\\\n",
    "                            district VARCHAR(255),\\\n",
    "                            transaction_count INT,\\\n",
    "                            transaction_amount DOUBLE)\"\n",
    "cursor.execute(query)\n",
    "connection.commit()"
   ]
  },
  {
   "cell_type": "code",
   "execution_count": null,
   "id": "86134dc5",
   "metadata": {},
   "outputs": [],
   "source": [
    "query = \"CREATE TABLE if not exists top_transaction_pincode(\\\n",
    "                            state VARCHAR(255),\\\n",
    "                            year INT,\\\n",
    "                            quarter VARCHAR(2),\\\n",
    "                            pincode VARCHAR(255),\\\n",
    "                            transaction_count INT,\\\n",
    "                            transaction_amount DOUBLE)\"\n",
    "cursor.execute(query)\n",
    "connection.commit()"
   ]
  },
  {
   "cell_type": "code",
   "execution_count": null,
   "id": "cb08c113",
   "metadata": {},
   "outputs": [],
   "source": [
    "query = \"CREATE TABLE if not exists top_user_district(\\\n",
    "                            state VARCHAR(255),\\\n",
    "                            year INT,\\\n",
    "                            quarter VARCHAR(2),\\\n",
    "                            district VARCHAR(255),\\\n",
    "                            registered_user INT)\"\n",
    "cursor.execute(query)\n",
    "connection.commit()\n"
   ]
  },
  {
   "cell_type": "code",
   "execution_count": null,
   "id": "8cec42a1",
   "metadata": {},
   "outputs": [],
   "source": [
    "query = \"CREATE TABLE if not exists top_user_pincode(\\\n",
    "                            state VARCHAR(255),\\\n",
    "                            year INT,\\\n",
    "                            quarter VARCHAR(2),\\\n",
    "                            pincode VARCHAR(255),\\\n",
    "                            registered_user INT)\"\n",
    "cursor.execute(query)\n",
    "connection.commit()\n"
   ]
  },
  {
   "cell_type": "code",
   "execution_count": null,
   "id": "7193d3d3",
   "metadata": {},
   "outputs": [],
   "source": [
    "cursor.execute(\"SHOW TABLES\")\n",
    "tables = cursor.fetchall()\n",
    "\n",
    "# Print the list of tables\n",
    "for table in tables:\n",
    "    print(table[0])"
   ]
  },
  {
   "cell_type": "code",
   "execution_count": null,
   "id": "58525406",
   "metadata": {},
   "outputs": [],
   "source": [
    "#insert data to table1 aagregated_transaction\n",
    "for index, row in Agg_Trans.iterrows():\n",
    "    insert_query = \"INSERT INTO aggregated_transaction (state, year, quarter, transaction_type, transaction_count, transaction_amount) VALUES (%s, %s, %s, %s, %s, %s)\"\n",
    "    values = (row['State'], row['Year'], row['Quarter'], row['Transaction_type'], row['Transaction_count'], row['Transaction_amount'])\n",
    "    cursor.execute(insert_query, values)\n",
    "\n",
    "# Committing the transaction\n",
    "connection.commit()\n",
    "\n",
    "# Fetching and printing the inserted data\n",
    "#check if the table is inserted with the data\n",
    "cursor.execute(\"SELECT * FROM aggregated_transaction\")\n",
    "rows = cursor.fetchall()\n",
    "for row in rows:\n",
    "    print(row)"
   ]
  },
  {
   "cell_type": "code",
   "execution_count": null,
   "id": "db48073e",
   "metadata": {},
   "outputs": [],
   "source": [
    "#insert data to table2 aagregated_user\n",
    "for index, row in Agg_User.iterrows():\n",
    "    insert_query = \"INSERT INTO aggregated_user (state, year, quarter, user_brand, user_count, user_percentage) VALUES (%s, %s, %s, %s, %s, %s)\"\n",
    "    values = (row['State'], row['Year'], row['Quarter'], row['User_brand'], row['User_count'], row['User_percentage'])\n",
    "    cursor.execute(insert_query, values)\n",
    "\n",
    "# Committing the transaction\n",
    "connection.commit()\n",
    "\n",
    "# Fetching and printing the inserted data\n",
    "cursor.execute(\"SELECT * FROM aggregated_user\")\n",
    "rows = cursor.fetchall()\n",
    "for row in rows:\n",
    "    print(row)"
   ]
  },
  {
   "cell_type": "code",
   "execution_count": null,
   "id": "00ca9790",
   "metadata": {},
   "outputs": [],
   "source": [
    "#insert data to table3 map_transaction\n",
    "for index, row in m_trans.iterrows():\n",
    "    insert_query = \"INSERT INTO map_transaction (state, year, quarter, district, transaction_count, transaction_amount) VALUES (%s, %s, %s, %s, %s, %s)\"\n",
    "    values = (row['State'], row['Year'], row['Quarter'], row['District'], row['Transaction_count'], row['Transaction_amount'])\n",
    "    cursor.execute(insert_query, values)\n",
    "\n",
    "# Committing the transaction\n",
    "connection.commit()\n",
    "\n",
    "# Fetching and printing the inserted data\n",
    "cursor.execute(\"SELECT * FROM map_transaction\")\n",
    "rows = cursor.fetchall()\n",
    "for row in rows:\n",
    "    print(row)"
   ]
  },
  {
   "cell_type": "code",
   "execution_count": null,
   "id": "8e4713d4",
   "metadata": {},
   "outputs": [],
   "source": [
    "#insert data to table4 map_user\n",
    "for index, row in m_user.iterrows():\n",
    "    insert_query = \"INSERT INTO map_user (state, year, quarter, district, registered_user, app_opens) VALUES (%s, %s, %s, %s, %s, %s)\"\n",
    "    values = (row['State'], row['Year'], row['Quarter'], row['District'], row['Registered_user'], row['App_opens'])\n",
    "    cursor.execute(insert_query, values)\n",
    "\n",
    "# Committing the transaction\n",
    "connection.commit()\n",
    "\n",
    "# Fetching and printing the inserted data\n",
    "cursor.execute(\"SELECT * FROM map_user\")\n",
    "rows = cursor.fetchall()\n",
    "for row in rows:\n",
    "    print(row)"
   ]
  },
  {
   "cell_type": "code",
   "execution_count": null,
   "id": "bc34c8cd",
   "metadata": {},
   "outputs": [],
   "source": [
    "#insert data to table5 top_transaction_district\n",
    "for index, row in Top_trans_district.iterrows():\n",
    "    insert_query = \"INSERT INTO top_transaction_district (state, year, quarter, district, transaction_count, transaction_amount) VALUES (%s, %s, %s, %s, %s, %s)\"\n",
    "    values = (row['State'], row['Year'], row['Quarter'], row['District'], row['Transaction_count'], row['Transaction_amount'])\n",
    "    cursor.execute(insert_query, values)\n",
    "\n",
    "# Committing the transaction\n",
    "connection.commit()\n",
    "\n",
    "# Fetching and printing the inserted data\n",
    "cursor.execute(\"SELECT * FROM top_transaction_district\")\n",
    "rows = cursor.fetchall()\n",
    "for row in rows:\n",
    "    print(row)"
   ]
  },
  {
   "cell_type": "code",
   "execution_count": null,
   "id": "7f3159f1",
   "metadata": {},
   "outputs": [],
   "source": [
    "#insert data to table6 top_transaction_pincode\n",
    "for index, row in Top_Trans_Pincode.iterrows():\n",
    "    insert_query = \"INSERT INTO top_transaction_pincode (state, year, quarter, pincode, transaction_count, transaction_amount) VALUES (%s, %s, %s, %s, %s, %s)\"\n",
    "    values = (row['State'], row['Year'], row['Quarter'], row['Pincode'], row['Transaction_count'], row['Transaction_amount'])\n",
    "    cursor.execute(insert_query, values)\n",
    "\n",
    "# Committing the transaction\n",
    "connection.commit()\n",
    "\n",
    "# Fetching and printing the inserted data\n",
    "cursor.execute(\"SELECT * FROM top_transaction_pincode\")\n",
    "rows = cursor.fetchall()\n",
    "for row in rows:\n",
    "    print(row)"
   ]
  },
  {
   "cell_type": "code",
   "execution_count": null,
   "id": "bc0030b1",
   "metadata": {},
   "outputs": [],
   "source": [
    "#insert data to table7 top_user_district\n",
    "for index, row in T_User_district.iterrows():\n",
    "    insert_query = \"INSERT INTO top_user_district (state, year, quarter, district, Registered_user) VALUES (%s, %s, %s, %s, %s)\"\n",
    "    values = (row['State'], row['Year'], row['Quarter'], row['District'], row['Registered_user'])\n",
    "    cursor.execute(insert_query, values)\n",
    "\n",
    "# Committing the transaction\n",
    "connection.commit()\n",
    "\n",
    "# Fetching and printing the inserted data\n",
    "cursor.execute(\"SELECT * FROM top_user_district\")\n",
    "rows = cursor.fetchall()\n",
    "for row in rows:\n",
    "    print(row)"
   ]
  },
  {
   "cell_type": "code",
   "execution_count": null,
   "id": "00f6d6e2",
   "metadata": {},
   "outputs": [],
   "source": [
    "#insert data to table8 top_user_pincode\n",
    "for index, row in T_User_Pincode.iterrows():\n",
    "    insert_query = \"INSERT INTO top_user_pincode (state, year, quarter, pincode, Registered_user) VALUES (%s, %s, %s, %s, %s)\"\n",
    "    values = (row['State'], row['Year'], row['Quarter'], row['Pincode'], row['Registered_user'])\n",
    "    cursor.execute(insert_query, values)\n",
    "\n",
    "# Committing the transaction\n",
    "connection.commit()\n",
    "\n",
    "# Fetching and printing the inserted data\n",
    "cursor.execute(\"SELECT * FROM top_user_pincode\")\n",
    "rows = cursor.fetchall()\n",
    "for row in rows:\n",
    "    print(row)"
   ]
  },
  {
   "cell_type": "code",
   "execution_count": null,
   "id": "afb0960e",
   "metadata": {},
   "outputs": [],
   "source": [
    "import streamlit as st\n",
    "import numpy as np"
   ]
  },
  {
   "cell_type": "code",
   "execution_count": null,
   "id": "d6dd8b25",
   "metadata": {},
   "outputs": [],
   "source": [
    "# Comfiguring Streamlit GUI \n",
    "st.set_page_config(layout='wide')\n",
    "\n",
    "# Title\n",
    "st.markdown(\"<h1 style='text-align: center; color: orange;'>Phonepe Pulse Data Visualization and Exploration</h1>\", unsafe_allow_html=True)\n",
    "#st.header(':orange[Phonepe Pulse Data Visualization ]')\n",
    "st.write('')\n"
   ]
  },
  {
   "cell_type": "code",
   "execution_count": null,
   "id": "9678d8ab",
   "metadata": {},
   "outputs": [],
   "source": [
    "# Selection option\n",
    "option = st.radio('**Select your option**',('All India', 'State wise','Top Ten categories'),horizontal=True)\n",
    "\n",
    "if option == 'All India':\n",
    "\n",
    "    # Select tab\n",
    "    tab1, tab2 = st.tabs(['Transaction','User'])\n",
    "\n",
    "    # -------------------------       /     All India Transaction        /        ------------------ #\n",
    "    with tab1:\n",
    "        col1, col2, col3 = st.columns(3)\n",
    "        with col1:\n",
    "            tr_yr = st.selectbox('**Select Year**', ('2018','2019','2020','2021','2022'),key='tr_yr')\n",
    "        with col2:\n",
    "            tr_qtr = st.selectbox('**Select Quarter**', ('1','2','3','4'),key='tr_qtr')\n",
    "        with col3:\n",
    "            tr_typ = st.selectbox('**Select Transaction type**', ('Recharge & bill payments','Peer-to-peer payments',\n",
    "            'Merchant payments','Financial Services','Others'),key='tr_typ')\n",
    "       \n",
    "            # Transaction Analysis bar chart query\n",
    "            cursor.execute(f\"SELECT State, Transaction_amount FROM aggregated_transaction WHERE Year = '{tr_yr}' AND Quarter = '{tr_qtr}' AND Transaction_type = '{tr_typ}';\")\n",
    "            result = cursor.fetchall()\n",
    "\n",
    "            df_result = pd.DataFrame(np.array(result), columns=['State', 'Transaction_amount'])\n",
    "            df_result['Transaction_amount'] = df_result['Transaction_amount'].astype(float)\n",
    "            df_result1 = df_result.set_index(pd.Index(range(1, len(df_result)+1)))\n",
    "\n",
    "            st.bar_chart(df_result1, use_container_width=True)\n"
   ]
  },
  {
   "cell_type": "code",
   "execution_count": null,
   "id": "303b26e8",
   "metadata": {},
   "outputs": [],
   "source": [
    "# Transaction Analysis query\n",
    "cursor.execute(f\"SELECT State, Transaction_count, Transaction_amount FROM aggregated_transaction WHERE Year = '{tr_yr}' AND Quarter = '{tr_qtr}' AND Transaction_type = '{tr_typ}';\")\n",
    "result = cursor.fetchall()\n",
    "df_result = pd.DataFrame(np.array(result), columns=['State','Transaction_count','Transaction_amount'])\n",
    "df_result2 = df_result.set_index(pd.Index(range(1, len(df_result)+1)))\n",
    "df_result2"
   ]
  },
  {
   "cell_type": "code",
   "execution_count": null,
   "id": "fdcff851",
   "metadata": {},
   "outputs": [],
   "source": [
    "# Total Transaction Amount query\n",
    "cursor.execute(f\"SELECT SUM(Transaction_amount), AVG(Transaction_amount) FROM aggregated_transaction WHERE Year = '{tr_yr}' AND Quarter = '{tr_qtr}' AND Transaction_type = '{tr_typ}';\")\n",
    "result = cursor.fetchall()\n",
    "df_result = pd.DataFrame(np.array(result), columns=['Total','Average'])\n",
    "df_result3 = df_result.set_index(['Average'])\n",
    "df_result3"
   ]
  },
  {
   "cell_type": "code",
   "execution_count": null,
   "id": "3da15d8d",
   "metadata": {},
   "outputs": [],
   "source": [
    " # Total Transaction Count query\n",
    "cursor.execute(f\"SELECT SUM(Transaction_count), AVG(Transaction_count) FROM aggregated_transaction WHERE Year = '{tr_yr}' AND Quarter = '{tr_qtr}' AND Transaction_type = '{tr_typ}';\")\n",
    "result = cursor.fetchall()\n",
    "df_result = pd.DataFrame(np.array(result), columns=['Total','Average'])\n",
    "df_result4 = df_result.set_index(['Average'])\n",
    "df_result4"
   ]
  },
  {
   "cell_type": "code",
   "execution_count": null,
   "id": "c0e0679a",
   "metadata": {},
   "outputs": [],
   "source": [
    "import requests\n",
    "import json\n",
    "\n",
    "url = \"https://gist.githubusercontent.com/jbrobst/56c13bbbf9d97d187fea01ca62ea5112/raw/e388c4cae20aa53cb5090210a42ebb9b765c0a36/india_states.geojson\"\n",
    "\n",
    "# Fetch GeoJSON data\n",
    "response = requests.get(url)\n",
    "data = json.loads(response.content)\n",
    "\n",
    "# Extract and sort state names\n",
    "geo_state = [i['properties']['ST_NM'] for i in data['features']]\n",
    "geo_state.sort(reverse=False)\n",
    "\n",
    "# Print the sorted state names\n",
    "for state in geo_state:\n",
    "    print(state)\n"
   ]
  },
  {
   "cell_type": "code",
   "execution_count": null,
   "id": "b8031185",
   "metadata": {},
   "outputs": [],
   "source": []
  }
 ],
 "metadata": {
  "kernelspec": {
   "display_name": "Python 3 (ipykernel)",
   "language": "python",
   "name": "python3"
  },
  "language_info": {
   "codemirror_mode": {
    "name": "ipython",
    "version": 3
   },
   "file_extension": ".py",
   "mimetype": "text/x-python",
   "name": "python",
   "nbconvert_exporter": "python",
   "pygments_lexer": "ipython3",
   "version": "3.11.7"
  }
 },
 "nbformat": 4,
 "nbformat_minor": 5
}
